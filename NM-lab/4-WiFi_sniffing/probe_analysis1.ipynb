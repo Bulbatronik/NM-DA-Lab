{
  "cells": [
    {
      "cell_type": "markdown",
      "metadata": {
        "id": "S4Hk9hMkMMW6"
      },
      "source": [
        "Let's open a capture file and export it into a more easily usable format..."
      ]
    },
    {
      "cell_type": "code",
      "execution_count": null,
      "metadata": {
        "colab": {
          "base_uri": "https://localhost:8080/"
        },
        "id": "w5_94ItzG0sD",
        "outputId": "affdc286-c9b5-4b80-c3f4-b926172fda97"
      },
      "outputs": [
        {
          "name": "stdout",
          "output_type": "stream",
          "text": [
            "Reading package lists... Done\n",
            "Building dependency tree       \n",
            "Reading state information... Done\n",
            "tshark is already the newest version (2.6.10-1~ubuntu18.04.0).\n",
            "0 upgraded, 0 newly installed, 0 to remove and 39 not upgraded.\n",
            "Running as user \"root\" and group \"root\". This could be dangerous.\n"
          ]
        }
      ],
      "source": [
        "!apt-get install tshark\n",
        "!tshark -r \"capture_10_36_mon_5.pcapng\" -R \"wlan.fc.type_subtype == 0x04\" -2 -T fields -e frame.number -e frame.time -e wlan.sa -e wlan.da -e wlan_radio.signal_dbm -e wlan.ssid -E header=y -E separator=, -E quote=d -E occurrence=f > capture.csv"
      ]
    },
    {
      "cell_type": "code",
      "execution_count": null,
      "metadata": {},
      "outputs": [],
      "source": [
        "from google.colab import drive\n",
        "\n",
        "drive.mount('/content/drive')\n",
        "\n",
        "%cd /content/drive/MyDrive/Colab Notebooks/Network measurements /"
      ]
    },
    {
      "cell_type": "code",
      "execution_count": null,
      "metadata": {},
      "outputs": [],
      "source": [
        "import warnings\n",
        "warnings.simplefilter(action='ignore', category=FutureWarning)\n",
        "\n",
        "import numpy as np\n",
        "import pandas as pd\n",
        "\n",
        "import seaborn as sns \n",
        "import matplotlib.pyplot as plt\n"
      ]
    },
    {
      "cell_type": "code",
      "execution_count": null,
      "metadata": {
        "id": "Y8KvYd7KNcP8"
      },
      "outputs": [],
      "source": [
        "#A locally administered address is assigned to a device by software or a network administrator, \n",
        "#overriding the burned-in address for physical devices. Locally administered addresses are distinguished \n",
        "#from universally administered addresses by setting (assigning the value of 1 to) \n",
        "#the second-least-significant bit of the first octet of the address. This bit is also referred to as the U/L bit, \n",
        "#short for Universal/Local, which identifies how the address is administered.\n",
        "\n",
        "def is_local_mac(sa):\n",
        "    first_octet = '0x'  + sa[0:2] #take the first octet of the MAC address (first two exadecimal values)\n",
        "    first_octet = int(format(int(first_octet,16),'08b'),2) #transform the first octet in binary format over 8 bits\n",
        "    mask = int(format(2,'08b'),2) #create the mask 00000010 (it's number 2 in decimal format)\n",
        "    if(mask & first_octet == mask): #perform bitwise and and check if it's equal to mask\n",
        "      return True\n",
        "    else:\n",
        "      return False\n",
        "    \n",
        "def extract_features(mac, df_flow):\n",
        "    flow_features = {}\n",
        "\n",
        "    flow_features['mac'] = mac\n",
        "    flow_features['avg_rss'] = df_flow['wlan_radio.signal_dbm'].astype(float).mean()\n",
        "    flow_features['mean_iat'] = pd.to_datetime(df_flow['frame.time']).diff(1).dt.total_seconds().iloc[1:].mean()\n",
        "\n",
        "    return flow_features[flow_features != 'nan']\n"
      ]
    },
    {
      "cell_type": "code",
      "execution_count": null,
      "metadata": {
        "colab": {
          "base_uri": "https://localhost:8080/"
        },
        "id": "NiSyKHlDMEgX",
        "outputId": "ee1906c1-9a3c-42df-a00f-0f7c4f84143c"
      },
      "outputs": [
        {
          "name": "stdout",
          "output_type": "stream",
          "text": [
            "00:0c:42:ab:04:b4 -90.06796116504854 16.221966333333338 ['Adiesselle.it' '�Q{eYse�U��:\\x1b']\n",
            "00:ae:fa:75:3b:fb -67.5 43.95187167741935 []\n",
            "00:cd:fe:4b:57:e2 -75.79166666666667 8.949067739130436 ['Apple Setup' 'Hotel Giardino sul Mare']\n",
            "08:f6:8a:8f:46:04 -91.0 nan []\n",
            "10:30:25:89:da:43 -77.66666666666667 59.971770272727284 ['Hotel Giardino sul Mare' 'shhhhh']\n",
            "10:f1:f2:45:b5:8c -71.7 87.30389022222224 []\n",
            "14:9d:09:bf:c4:06 -57.8 143.43034177777778 []\n",
            "14:c2:13:7c:dc:d3 -83.33333333333333 29.21048 ['Hotel Giardino sul Mare']\n",
            "18:65:90:d6:c6:99 -68.33333333333333 3.7408288000000005 ['Hotel Giardino sul Mare' 'Vodafone-WiFi']\n",
            "1d:b4:35:3b:dc:6c -88.0 nan []\n",
            "20:16:b9:b1:39:83 -64.5 14.94368094736842 [' ']\n",
            "20:16:b9:b8:10:0a -64.0 84.14092560000002 ['Hotel Giardino sul Mare' 'LIPARISCHOOL']\n",
            "24:18:1d:e2:5b:22 -90.0 nan []\n",
            "24:af:ed:3e:ea:d0 -89.0 nan []\n",
            "2c:f0:ee:04:af:00 -52.193548387096776 9.157192560975616 ['BRUFANI' 'Hotel Giardino sul Mare' 'LIPARISCHOOL' 'LIPARISCHOOL-5G'\n",
            " 'NETGEAR05' 'virus_downloader']\n",
            "30:07:4d:99:e1:0d -67.75 129.8239419090909 []\n",
            "30:07:4d:f2:c1:16 -77.953125 27.04471249206351 []\n",
            "30:35:ad:b5:a0:a0 -47.73076923076923 35.12984959999999 ['LIPARISCHOOL' 'OnePlus3']\n",
            "30:63:6b:d9:88:f1 -72.25 1.3898636666666668 ['badr_wifi']\n",
            "34:42:62:0b:df:4a -46.0 59.2759096 ['TIM_MF90_8703']\n",
            "34:f3:9a:64:e6:f0 -77.21739130434783 70.63886354545454 ['Vista']\n",
            "38:f9:d3:73:b1:aa -56.05 45.80823984210526 ['HUAWEI P9 lite']\n",
            "40:9c:28:ec:56:87 -75.22727272727273 4.9917441428571445 ['Hotel Giardino sul Mare']\n",
            "44:ae:e7:a7:8e:0b -80.0 nan []\n",
            "48:60:5f:5a:07:93 -62.94047619047619 21.20169080722891 ['Hotel Giardino sul Mare']\n",
            "58:55:ca:52:44:f1 -89.8 244.59983525000004 ['Antheya III Family' 'Marina_Free-Access']\n",
            "58:c5:cb:39:0c:e3 -54.55 85.66398094736843 []\n",
            "64:5a:ed:3e:69:d5 -75.60526315789474 37.00325856756757 ['Hotel Giardino sul Mare']\n",
            "64:70:33:7a:cd:0e -65.22727272727273 28.239526666666674 ['Hotel Giardino sul Mare']\n",
            "64:b0:a6:8f:33:c4 -68.27272727272727 30.164013761904762 ['Hotel Giardino sul Mare']\n",
            "6c:c7:ec:43:bd:ff -74.64285714285714 31.938778672727274 []\n",
            "6c:c7:ec:a5:cc:3e -62.75 11.964535571428572 []\n",
            "74:d2:f9:75:0c:74 -88.0 nan []\n",
            "74:e2:f5:0c:eb:11 -53.325581395348834 41.80196090476191 []\n",
            "78:4f:43:51:87:45 -74.26 25.478695632653075 ['FourpointsSherCT' 'Hotel Giardino sul Mare' 'dino']\n",
            "7c:b3:9a:38:bb:4d -89.0 nan []\n",
            "84:c7:ea:98:b0:6c -41.714285714285715 178.93488283333338 ['TIM_MF90_8703']\n",
            "8c:85:90:05:2c:cb -78.0625 91.87743960000002 ['Hotel Giardino sul Mare']\n",
            "8c:85:90:3d:7d:63 -71.83333333333333 8.6478664 ['LIPARISCHOOL-5G']\n",
            "8c:85:90:50:3b:b6 -56.72115384615385 11.757572213592235 ['AP-BONOLA' 'Apple Store' 'D-Link-782084' 'FASTWEB-1-A9A463'\n",
            " 'Hotel Giardino sul Mare' 'LIVINGFREE' 'Lab-netgroup' 'Leda Hotel'\n",
            " 'NetGroup_SDN' 'Stayalfred304' 'TLCSat' 'alcatraz' 'alitaliawifi'\n",
            " 'eduroam' 'iPhone di marco' 'mpaou.uth.gr' 'qba']\n",
            "8c:85:90:c7:d6:77 -79.24074074074075 23.182784849056596 [' EWR Free WiFi' 'Boingo Hotspot' 'Carlyle-Guest-WiFi'\n",
            " 'Hotel Giardino sul Mare' 'Sheraton']\n",
            "98:22:ef:cc:0a:99 -59.81818181818182 97.9477202 ['HUAWEI LUA-U22_2376']\n",
            "98:e0:d9:96:5b:c5 -62.2037037037037 27.69284469811321 ['FourpointsSherCT' 'Hotel Giardino sul Mare']\n",
            "9c:b6:d0:8e:e7:a3 -74.625 68.47185926666667 ['Hotel Giardino sul Mare']\n",
            "9c:e0:63:08:25:7a -81.75 87.73264185714287 ['Grom-guest']\n",
            "9c:f3:87:cd:84:66 -52.0 4.128647909090909 ['LIPARISCHOOL' 'LIPARISCHOOL-5G']\n",
            "a4:50:46:03:a0:ad -66.79166666666667 28.99587129787234 []\n",
            "a4:5e:60:dc:14:8f -76.52380952380952 72.69606795000001 ['workgroup' 'workgroup-solarium']\n",
            "a4:83:e7:28:d0:b6 -77.07407407407408 29.056371547169807 ['Hotel Giardino sul Mare' 'TIM-24983084']\n",
            "ac:5f:3e:81:44:fb -50.84615384615385 31.313553019607856 ['Hotel Giardino sul Mare']\n",
            "ac:5f:3e:a4:bf:a7 -76.0 38.5659934117647 []\n",
            "ac:92:32:6f:cd:8a -70.5 0.03935 []\n",
            "ac:bc:32:c0:b3:89 -73.68539325842697 11.52217211363636 ['Hotel Giardino sul Mare' 'LiU']\n",
            "b0:52:16:46:c5:83 -65.88888888888889 64.206708 ['Hotel Giardino sul Mare' 'eduroam' 'polimi-protected']\n",
            "bc:75:74:69:07:b0 -64.75 107.68371414285716 []\n",
            "c8:ff:28:78:9b:91 -68.78125 48.880112354838715 ['Hotel Giardino sul Mare']\n",
            "cd:45:29:73:6a:f1 -89.0 nan []\n",
            "d0:4f:7e:3c:d0:d9 -80.0 nan []\n",
            "d0:4f:7e:4f:b4:00 -83.33333333333333 93.732167 ['Hotel Giardino sul Mare']\n",
            "d4:63:c6:10:54:06 -79.5 0.025254000000000002 []\n",
            "d4:63:c6:1d:85:5b -81.0 0.025480000000000003 []\n",
            "d4:63:c6:39:e9:88 -79.0 0.025411000000000003 []\n",
            "d4:63:c6:68:1a:95 -78.0 0.025192000000000003 []\n",
            "d4:63:c6:7b:bf:71 -78.0 0.025128 []\n",
            "d4:63:c6:80:fb:e4 -78.5 0.02534 []\n",
            "d4:63:c6:82:7e:7a -80.0 0.024961 []\n",
            "d4:63:c6:84:38:34 -79.0 0.024944 []\n",
            "d4:63:c6:84:8a:8a -78.01315789473684 20.967139946666666 []\n",
            "d4:63:c6:9c:96:ed -78.0 0.025058 []\n",
            "d4:63:c6:9d:cc:a2 -77.0 0.025489 []\n",
            "d4:63:c6:a7:fc:9b -81.0 0.025043000000000003 []\n",
            "d4:63:c6:bc:39:59 -82.5 0.025006 []\n",
            "d4:63:c6:c1:75:dd -76.0 0.025333 []\n",
            "d4:63:c6:c5:42:bd -79.0 0.025174000000000002 []\n",
            "d4:63:c6:ec:69:89 -83.5 0.025112000000000002 []\n",
            "d4:63:c6:f6:4d:49 -80.5 0.024900000000000002 []\n",
            "d8:c4:6a:b4:a7:a8 -72.0 53.20604472727273 ['Hotel Giardino sul Mare']\n",
            "dc:90:88:54:00:8c -60.5 1.1916879999999999 []\n",
            "ec:8c:9a:d6:cf:b5 -72.75 3.8636123333333336 []\n",
            "f0:18:98:35:ce:4b -50.76315789473684 6.794776378378379 ['Hotel Giardino sul Mare' 'eduroam']\n",
            "f0:18:98:3f:8c:e0 -76.9090909090909 71.6276349047619 ['Hotel Giardino sul Mare' 'eduroam']\n",
            "f0:d5:bf:92:1d:87 -76.22727272727273 30.91592361904762 ['AndroidAP' 'Hotel Giardino sul Mare' 'eduroam' 'polimi-protected']\n",
            "f1:ff:59:75:38:a2 -88.0 nan []\n",
            "f4:8c:50:46:39:30 -61.78947368421053 49.39361616666667 []\n",
            "f8:38:80:50:ba:c8 -78.27027027027027 10.264934360544224 ['Hotel Giardino sul Mare']\n",
            "There were 1297 local (randomized) MAC addresses and 85 universal MAC addresses\n"
          ]
        }
      ],
      "source": [
        "cap = pd.read_csv('capture.csv')\n",
        "cap = cap[cap['wlan.sa'].notna()]\n",
        "\n",
        "cap['is_local'] = cap['wlan.sa'].apply(lambda x : is_local_mac(x))\n",
        "display(cap)\n",
        "\n",
        "universal_probes = cap[cap['is_local'] == False]\n",
        "local_probes = cap[cap['is_local'] == True]\n",
        "\n",
        "grouped_universal_probes = universal_probes.groupby(['wlan.sa'])\n",
        "grouped_local_probes = local_probes.groupby(['wlan.sa'])\n",
        "\n",
        "num_local = 0\n",
        "num_universal = 0\n",
        "\n",
        "LOCAL_DF = pd.DataFrame()\n",
        "UNIVERSAL_DF = pd.DataFrame()\n",
        "for sa,probes in grouped_universal_probes:\n",
        "    features_per_mac = extract_features(sa, probes)\n",
        "    UNIVERSAL_DF = UNIVERSAL_DF.append(features_per_mac, ignore_index = True)\n",
        "display(UNIVERSAL_DF.head(3))\n",
        "\n",
        "for sa,probes in grouped_local_probes:\n",
        "    features_per_mac = extract_features(sa, probes)\n",
        "    LOCAL_DF = LOCAL_DF.append(features_per_mac, ignore_index = True)\n",
        "display(LOCAL_DF.head(3))\n",
        "\n",
        "print('There were ' + str(LOCAL_DF.shape[0]) + ' local (randomized) MAC addresses and ' + str(UNIVERSAL_DF.shape[0]) + ' universal MAC addresses' )\n",
        "# a lot of MACs! This is due to the randomization of the MAC addresses. One bit out of 46 can be put to 1 if it is a randomized address (local bit)"
      ]
    },
    {
      "cell_type": "code",
      "execution_count": null,
      "metadata": {
        "colab": {
          "base_uri": "https://localhost:8080/",
          "height": 569
        },
        "id": "sq0eU-RJZZOT",
        "outputId": "9605f4a3-2fa9-483e-861c-b2b9a6cc3009"
      },
      "outputs": [
        {
          "data": {
            "image/png": "[encoded data removed]",
            "text/plain": [
              "<Figure size 1440x360 with 2 Axes>"
            ]
          },
          "metadata": {},
          "output_type": "display_data"
        },
        {
          "data": {
            "image/png": "[encoded data removed]",
            "text/plain": [
              "<Figure size 1440x360 with 2 Axes>"
            ]
          },
          "metadata": {},
          "output_type": "display_data"
        }
      ],
      "source": [
        "# RSSI\n",
        "fig, (ax1, ax2) = plt.subplots(1,2,figsize=(20,5))\n",
        "sns.set_style(\"whitegrid\")\n",
        "\n",
        "fig1 = sns.histplot(cap, x='wlan_radio.signal_dbm', hue='is_local', stat='probability', ax=ax1, bins=150)\n",
        "fig1.set_xlabel('RSSI [dBm]')\n",
        "\n",
        "fig2 = sns.ecdfplot(cap, x='wlan_radio.signal_dbm', hue='is_local', ax=ax2)\n",
        "fig2.set_xlabel('RSSI [dBm]')\n",
        "\n",
        "# IAT\n",
        "fig, (ax1, ax2) = plt.subplots(1,2,figsize=(20,5))\n",
        "sns.set_style(\"whitegrid\")\n",
        "\n",
        "fig1 = sns.histplot(UNIVERSAL_DF['mean_iat'], stat='probability', ax=ax1, bins=50, color ='b')\n",
        "fig1 = sns.histplot(LOCAL_DF['mean_iat'], stat='probability', ax=ax1, bins=50, color='r')\n",
        "fig1.set_xlabel('IAT [s]')\n",
        "\n",
        "fig2 = sns.ecdfplot(UNIVERSAL_DF['mean_iat'], ax=ax2, color = 'b')\n",
        "fig2 = sns.ecdfplot(LOCAL_DF['mean_iat'], ax=ax2, color = 'r')\n",
        "fig2.set_xlabel('IAT [s]')"
      ]
    },
    {
      "cell_type": "code",
      "execution_count": null,
      "metadata": {
        "colab": {
          "base_uri": "https://localhost:8080/"
        },
        "id": "-965iSwAhKFP",
        "outputId": "9b434800-dbba-4c99-f73c-fe3a372906d6"
      },
      "outputs": [
        {
          "name": "stdout",
          "output_type": "stream",
          "text": [
            "Apple Store: England TW12 3XZ 51.4249115 -0.37916499\n",
            "LIVINGFREE: WA 98195-2350 47.65229416 -122.29620361\n",
            "eduroam: CO 80437 39.69000244 -105.35848999\n",
            "iPhone di marco: Lombardia 27012 45.25522614 9.14016533\n",
            "qba: województwo mazowieckie 05-090 52.1640892 20.92713737\n"
          ]
        }
      ],
      "source": [
        "import requests\n",
        "import json\n",
        "\n",
        "SSIDs = ['AP-BONOLA', 'Apple Store', 'D-Link-782084', 'FASTWEB-1-A9A463',\n",
        " 'Hotel Giardino sul Mare', 'LIVINGFREE', 'Lab-netgroup', 'Leda Hotel',\n",
        " 'eduroam', 'iPhone di marco', 'mpaou.uth.gr', 'qba']\n",
        " \n",
        "for ssid in SSIDs:\n",
        "  query = 'https://api.wigle.net/api/v2/network/search?onlymine=false&freenet=false&paynet=false&ssid=' + ssid\n",
        "  response = requests.get(query, auth=('AIDb42d371635e0ef3b7cb3fe0f60054975', '6ce87b868cbe6ecc204b3ab17dc83887'), headers={'Accept': 'application/json'})\n",
        "  res = json.loads(response.content)\n",
        "  if res['totalResults']>0:\n",
        "    print(ssid + ': ' +res['results'][0]['region'], res['results'][0]['postalcode'], res['results'][0]['trilat'], res['results'][0]['trilong'])"
      ]
    },
    {
      "cell_type": "code",
      "execution_count": null,
      "metadata": {
        "id": "RmDzxl1JhZhk"
      },
      "outputs": [],
      "source": []
    }
  ],
  "metadata": {
    "colab": {
      "provenance": []
    },
    "kernelspec": {
      "display_name": "Python 3",
      "name": "python3"
    },
    "language_info": {
      "name": "python"
    }
  },
  "nbformat": 4,
  "nbformat_minor": 0
}
