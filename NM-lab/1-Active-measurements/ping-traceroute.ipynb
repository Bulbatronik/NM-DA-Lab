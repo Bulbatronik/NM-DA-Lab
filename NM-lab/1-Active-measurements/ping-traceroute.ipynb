{
 "cells": [
  {
   "cell_type": "markdown",
   "metadata": {
    "id": "T9NrP9Ih2sBR"
   },
   "source": [
    "Welcome to our first exercise with Colab!\n",
    "\n",
    "Today we'll be experimenting with ping and Scapy and refresh some of the Python programming language features.\n",
    "\n",
    "As a first step, we need to install scapy and pythonping libraries. You can install new Python libraries in your Colab notebook using \n",
    "```\n",
    "!pip install <library>\n",
    "```\n",
    "\n"
   ]
  },
  {
   "cell_type": "code",
   "execution_count": 1,
   "metadata": {
    "colab": {
     "base_uri": "https://localhost:8080/"
    },
    "executionInfo": {
     "elapsed": 15665,
     "status": "ok",
     "timestamp": 1645693502017,
     "user": {
      "displayName": "Alessandro Enrico Cesare Redondi",
      "photoUrl": "https://lh3.googleusercontent.com/a/default-user=s64",
      "userId": "14548244000690931442"
     },
     "user_tz": -60
    },
    "id": "5-KEA8d62jeF",
    "outputId": "07dd0ae1-abde-4792-fd78-4c48f6399879"
   },
   "outputs": [
    {
     "name": "stdout",
     "output_type": "stream",
     "text": [
      "Collecting scapy[basic]\n",
      "  Downloading scapy-2.4.5.tar.gz (1.1 MB)\n",
      "\u001b[K     |████████████████████████████████| 1.1 MB 5.1 MB/s \n",
      "\u001b[?25hRequirement already satisfied: ipython in /usr/local/lib/python3.7/dist-packages (from scapy[basic]) (5.5.0)\n",
      "Requirement already satisfied: decorator in /usr/local/lib/python3.7/dist-packages (from ipython->scapy[basic]) (4.4.2)\n",
      "Requirement already satisfied: pexpect in /usr/local/lib/python3.7/dist-packages (from ipython->scapy[basic]) (4.8.0)\n",
      "Requirement already satisfied: setuptools>=18.5 in /usr/local/lib/python3.7/dist-packages (from ipython->scapy[basic]) (57.4.0)\n",
      "Requirement already satisfied: traitlets>=4.2 in /usr/local/lib/python3.7/dist-packages (from ipython->scapy[basic]) (5.1.1)\n",
      "Requirement already satisfied: pygments in /usr/local/lib/python3.7/dist-packages (from ipython->scapy[basic]) (2.6.1)\n",
      "Requirement already satisfied: prompt-toolkit<2.0.0,>=1.0.4 in /usr/local/lib/python3.7/dist-packages (from ipython->scapy[basic]) (1.0.18)\n",
      "Requirement already satisfied: pickleshare in /usr/local/lib/python3.7/dist-packages (from ipython->scapy[basic]) (0.7.5)\n",
      "Requirement already satisfied: simplegeneric>0.8 in /usr/local/lib/python3.7/dist-packages (from ipython->scapy[basic]) (0.8.1)\n",
      "Requirement already satisfied: wcwidth in /usr/local/lib/python3.7/dist-packages (from prompt-toolkit<2.0.0,>=1.0.4->ipython->scapy[basic]) (0.2.5)\n",
      "Requirement already satisfied: six>=1.9.0 in /usr/local/lib/python3.7/dist-packages (from prompt-toolkit<2.0.0,>=1.0.4->ipython->scapy[basic]) (1.15.0)\n",
      "Requirement already satisfied: ptyprocess>=0.5 in /usr/local/lib/python3.7/dist-packages (from pexpect->ipython->scapy[basic]) (0.7.0)\n",
      "Building wheels for collected packages: scapy\n",
      "  Building wheel for scapy (setup.py) ... \u001b[?25l\u001b[?25hdone\n",
      "  Created wheel for scapy: filename=scapy-2.4.5-py2.py3-none-any.whl size=1261555 sha256=7d8bd59dae6120f0c75a9eeb72dbd68b89b83d64bead419412ee8e71aadf4227\n",
      "  Stored in directory: /root/.cache/pip/wheels/b9/6e/c0/0157e466a5e02d3ff28fc7587dff329b4a967a23b3f9b11385\n",
      "Successfully built scapy\n",
      "Installing collected packages: scapy\n",
      "Successfully installed scapy-2.4.5\n",
      "Collecting pythonping\n",
      "  Downloading pythonping-1.1.1-py3-none-any.whl (15 kB)\n",
      "Installing collected packages: pythonping\n",
      "Successfully installed pythonping-1.1.1\n"
     ]
    }
   ],
   "source": [
    "!pip install --pre scapy[basic]\n",
    "!pip install pythonping"
   ]
  },
  {
   "cell_type": "markdown",
   "metadata": {
    "id": "FwyO7OTqoC2_"
   },
   "source": [
    "Now we'll try to figure out what is the public (external) IP address of the Virtual Machine we are running. We'll do it by asking to the *ipify* API (similar to searching for 'what is my ip' on google). We can also try to localize the VM geographically by using the *ip-api* service."
   ]
  },
  {
   "cell_type": "code",
   "execution_count": null,
   "metadata": {},
   "outputs": [],
   "source": [
    "import numpy as np\n",
    "\n",
    "import json # parse the reply\n",
    "import socket\n",
    "import urllib.request\n",
    "\n",
    "from pythonping import ping\n",
    "from scapy.all import *\n",
    "\n",
    "import matplotlib as mpl\n",
    "import matplotlib.pyplot as plt\n"
   ]
  },
  {
   "cell_type": "code",
   "execution_count": null,
   "metadata": {
    "colab": {
     "base_uri": "https://localhost:8080/"
    },
    "executionInfo": {
     "elapsed": 1031,
     "status": "ok",
     "timestamp": 1645452151720,
     "user": {
      "displayName": "Alessandro Enrico Cesare Redondi",
      "photoUrl": "https://lh3.googleusercontent.com/a/default-user=s64",
      "userId": "14548244000690931442"
     },
     "user_tz": -60
    },
    "id": "eAs6E496oSDK",
    "outputId": "c7ffd1c2-94fe-4f89-f623-cdd247b261ff"
   },
   "outputs": [
    {
     "name": "stdout",
     "output_type": "stream",
     "text": [
      "External IP:  104.198.3.56\n",
      "Organization:  Google Cloud (us-west1)\n",
      "Location:  The Dalles , United States\n"
     ]
    }
   ],
   "source": [
    "ip = urllib.request.urlopen('https://api.ipify.org').read().decode('UTF-8')\n",
    "ip_info = json.loads(urllib.request.urlopen('http://ip-api.com/json/' + ip).read())\n",
    "\n",
    "# what is the IP of the VM you use in colab\n",
    "print('External IP: ', ip)\n",
    "print('Organization: ', ip_info[\"org\"])\n",
    "print('Location: ', ip_info[\"city\"], ',', ip_info[\"country\"])"
   ]
  },
  {
   "cell_type": "markdown",
   "metadata": {
    "id": "SQ4pFGALeSr-"
   },
   "source": [
    "OK! So every measurement we'll do from this page is performed from the Google Cloud servers (location may vary!). Now, we'll use python native ping library to ping a server far away... say in New Zealand (using the debian mirror server ftp.nz.debian.org)"
   ]
  },
  {
   "cell_type": "code",
   "execution_count": null,
   "metadata": {
    "colab": {
     "base_uri": "https://localhost:8080/"
    },
    "executionInfo": {
     "elapsed": 3344,
     "status": "ok",
     "timestamp": 1645452157644,
     "user": {
      "displayName": "Alessandro Enrico Cesare Redondi",
      "photoUrl": "https://lh3.googleusercontent.com/a/default-user=s64",
      "userId": "14548244000690931442"
     },
     "user_tz": -60
    },
    "id": "ZCXOK8wbBobV",
    "outputId": "54d85389-497c-4001-ed58-2880568a76d0"
   },
   "outputs": [
    {
     "data": {
      "text/plain": [
       "Reply from 163.7.134.112, 29 bytes in 152.77ms\n",
       "Reply from 163.7.134.112, 29 bytes in 153.02ms\n",
       "Reply from 163.7.134.112, 29 bytes in 152.31ms\n",
       "Reply from 163.7.134.112, 29 bytes in 154.89ms\n",
       "Reply from 163.7.134.112, 29 bytes in 152.66ms\n",
       "Reply from 163.7.134.112, 29 bytes in 153.62ms\n",
       "Reply from 163.7.134.112, 29 bytes in 152.98ms\n",
       "Reply from 163.7.134.112, 29 bytes in 152.61ms\n",
       "Reply from 163.7.134.112, 29 bytes in 152.29ms\n",
       "Reply from 163.7.134.112, 29 bytes in 151.85ms\n",
       "Reply from 163.7.134.112, 29 bytes in 151.68ms\n",
       "Reply from 163.7.134.112, 29 bytes in 151.77ms\n",
       "Reply from 163.7.134.112, 29 bytes in 151.8ms\n",
       "Reply from 163.7.134.112, 29 bytes in 151.85ms\n",
       "Reply from 163.7.134.112, 29 bytes in 151.96ms\n",
       "Reply from 163.7.134.112, 29 bytes in 151.87ms\n",
       "Reply from 163.7.134.112, 29 bytes in 151.82ms\n",
       "Reply from 163.7.134.112, 29 bytes in 152.02ms\n",
       "Reply from 163.7.134.112, 29 bytes in 151.84ms\n",
       "Reply from 163.7.134.112, 29 bytes in 151.81ms\n",
       "\n",
       "Round Trip Times min/avg/max is 151.68/152.37/154.89 ms"
      ]
     },
     "execution_count": 3,
     "metadata": {},
     "output_type": "execute_result"
    }
   ],
   "source": [
    "target = 'ftp.nz.debian.org'\n",
    "ping(target, verbose=False, count=20)"
   ]
  },
  {
   "cell_type": "markdown",
   "metadata": {
    "id": "FrBEQ8XtfNiI"
   },
   "source": [
    "Perfect! That was simple, and we already got some network measurements (Round Trip Times)!\n",
    "\n",
    "Now we will try to use scapy to do the same thing. We will create several ICMP echo request packet, send it to our target server and wait for the response. Let's try to understand how scapy works.\n",
    "\n",
    "First we will understand how to create packets by stacking protocol layers"
   ]
  },
  {
   "cell_type": "code",
   "execution_count": null,
   "metadata": {
    "colab": {
     "base_uri": "https://localhost:8080/"
    },
    "executionInfo": {
     "elapsed": 775,
     "status": "ok",
     "timestamp": 1645452163484,
     "user": {
      "displayName": "Alessandro Enrico Cesare Redondi",
      "photoUrl": "https://lh3.googleusercontent.com/a/default-user=s64",
      "userId": "14548244000690931442"
     },
     "user_tz": -60
    },
    "id": "fkGuBRMRgdxA",
    "outputId": "800539fd-d6db-42ff-9c6e-88b0f24b6735"
   },
   "outputs": [
    {
     "name": "stdout",
     "output_type": "stream",
     "text": [
      "###[ IP ]### \n",
      "  version   = 4\n",
      "  ihl       = None\n",
      "  tos       = 0x0\n",
      "  len       = None\n",
      "  id        = 1\n",
      "  flags     = \n",
      "  frag      = 0\n",
      "  ttl       = 64\n",
      "  proto     = 0\n",
      "  chksum    = None\n",
      "  src       = 127.0.0.1\n",
      "  dst       = 127.0.0.1\n",
      "  \\options   \\\n",
      "\n",
      "###[ ICMP ]### \n",
      "  type      = echo-request\n",
      "  code      = 0\n",
      "  chksum    = None\n",
      "  id        = 0x0\n",
      "  seq       = 0x0\n",
      "  unused    = ''\n",
      "\n",
      "###[ UDP ]### \n",
      "  sport     = 53\n",
      "  dport     = 53\n",
      "  len       = None\n",
      "  chksum    = None\n",
      "\n",
      "###[ TCP ]### \n",
      "  sport     = 20\n",
      "  dport     = 80\n",
      "  seq       = 0\n",
      "  ack       = 0\n",
      "  dataofs   = None\n",
      "  reserved  = 0\n",
      "  flags     = S\n",
      "  window    = 8192\n",
      "  chksum    = None\n",
      "  urgptr    = 0\n",
      "  options   = ''\n",
      "\n",
      "###[ IP ]### \n",
      "  version   = 4\n",
      "  ihl       = None\n",
      "  tos       = 0x0\n",
      "  len       = None\n",
      "  id        = 1\n",
      "  flags     = \n",
      "  frag      = 0\n",
      "  ttl       = 64\n",
      "  proto     = 1\n",
      "  chksum    = None\n",
      "  src       = 172.28.0.2\n",
      "  dst       = Net(\"ftp.nz.debian.org/32\")\n",
      "  \\options   \\\n",
      "###[ ICMP ]### \n",
      "     type      = echo-request\n",
      "     code      = 0\n",
      "     chksum    = None\n",
      "     id        = 0x0\n",
      "     seq       = 0x0\n",
      "     unused    = ''\n",
      "\n"
     ]
    }
   ],
   "source": [
    "#default IP layer\n",
    "IP().show()\n",
    "\n",
    "#default ICMP layer\n",
    "ICMP().show()\n",
    "\n",
    "#default UDP layer\n",
    "UDP().show()\n",
    "\n",
    "#default TCP layer\n",
    "TCP().show()\n",
    "\n",
    "#create a simple ICMP echo request packet with IP destination 'ftp.nz.debian.org'. You can stack layers with the '/' operand.\n",
    "packet = IP(dst = target) / ICMP()\n",
    "packet.show()"
   ]
  },
  {
   "cell_type": "markdown",
   "metadata": {
    "id": "aNVNe3H1ztsU"
   },
   "source": [
    "Now we'll send the packet we have created. The sr() function can be used to send packets and receive answers at the IP layer. \n",
    "\n",
    "The sr() function returns two outputs: i) a couple of packets sent and answers received and ii) the unanswered packets. \n",
    "\n",
    "```\n",
    "ans, unans = sr(packet)\n",
    "```\n",
    "\n",
    "The structure of the object for answered packets is the following: ans[i][0] stores the i-th sent packet, ans[i][1] the i-th received response \n",
    "\n"
   ]
  },
  {
   "cell_type": "code",
   "execution_count": null,
   "metadata": {
    "colab": {
     "base_uri": "https://localhost:8080/"
    },
    "executionInfo": {
     "elapsed": 243,
     "status": "ok",
     "timestamp": 1645452174370,
     "user": {
      "displayName": "Alessandro Enrico Cesare Redondi",
      "photoUrl": "https://lh3.googleusercontent.com/a/default-user=s64",
      "userId": "14548244000690931442"
     },
     "user_tz": -60
    },
    "id": "sOhqWyxy0tS2",
    "outputId": "477fb011-3533-4bec-f2bf-beb6d87234d0"
   },
   "outputs": [
    {
     "name": "stdout",
     "output_type": "stream",
     "text": [
      "Received  1 packet\n",
      "IP / ICMP 172.28.0.2 > 163.7.134.112 echo-request 0 ==> IP / ICMP 163.7.134.112 > 172.28.0.2 echo-reply 0\n",
      "None\n",
      "IP / ICMP 172.28.0.2 > 163.7.134.112 echo-request 0\n",
      "IP / ICMP 163.7.134.112 > 172.28.0.2 echo-reply 0\n"
     ]
    }
   ],
   "source": [
    "ans, unans = sr(packet, verbose = False)\n",
    "print('Received ', len(ans), 'packet')\n",
    "print(ans.summary())\n",
    "query = ans[0][0]\n",
    "answer = ans[0][1]\n",
    "print(query.summary())\n",
    "print(answer.summary())"
   ]
  },
  {
   "cell_type": "markdown",
   "metadata": {
    "id": "ap-H1-Aw15Jt"
   },
   "source": [
    "We can also get some timing info from the sent/received packets...\n",
    "\n",
    "\n",
    "\n"
   ]
  },
  {
   "cell_type": "code",
   "execution_count": null,
   "metadata": {
    "colab": {
     "base_uri": "https://localhost:8080/"
    },
    "executionInfo": {
     "elapsed": 232,
     "status": "ok",
     "timestamp": 1645452178777,
     "user": {
      "displayName": "Alessandro Enrico Cesare Redondi",
      "photoUrl": "https://lh3.googleusercontent.com/a/default-user=s64",
      "userId": "14548244000690931442"
     },
     "user_tz": -60
    },
    "id": "jL0Ii5eS8D9i",
    "outputId": "27941722-7096-4866-bd31-a08a7185d8a8"
   },
   "outputs": [
    {
     "name": "stdout",
     "output_type": "stream",
     "text": [
      "1645452174.1191776\n",
      "1645452174.2720978\n",
      "152.92024612426758\n"
     ]
    }
   ],
   "source": [
    "print(query.sent_time)\n",
    "print(answer.time)\n",
    "rtt = answer.time - query.sent_time\n",
    "print(rtt*1000) #in ms\n",
    "#NAT performs the translation, the OS will decode the right srs address"
   ]
  },
  {
   "cell_type": "markdown",
   "metadata": {
    "id": "TJ8bie5e92GY"
   },
   "source": [
    "Ok! Now you should have all the ingredients to create your own version of ping using scapy tools. \n",
    "\n",
    "Let's send 20 ICMP echo request packets to ftp.nz.debian.org, compute the min/avg/max Round Trip Time and compare it with the pythonping output"
   ]
  },
  {
   "cell_type": "code",
   "execution_count": null,
   "metadata": {
    "colab": {
     "base_uri": "https://localhost:8080/"
    },
    "executionInfo": {
     "elapsed": 3927,
     "status": "ok",
     "timestamp": 1645452192116,
     "user": {
      "displayName": "Alessandro Enrico Cesare Redondi",
      "photoUrl": "https://lh3.googleusercontent.com/a/default-user=s64",
      "userId": "14548244000690931442"
     },
     "user_tz": -60
    },
    "id": "cn02lk4qIjgE",
    "outputId": "07bd2a5a-02bc-4cc3-bee0-620aa61a88a1"
   },
   "outputs": [
    {
     "name": "stdout",
     "output_type": "stream",
     "text": [
      "Round Trip Times min/avg/max 151.66 151.86 152.47\n"
     ]
    }
   ],
   "source": [
    "#Insert your solution here\n",
    "RTT = []\n",
    "for x in range(20):\n",
    "  packet = IP(dst = target) / ICMP(type = 'echo-request',seq=x)\n",
    "  ans, unans = sr(packet, verbose = False)\n",
    "  RTT.append((ans[0][1].time - ans[0][0].sent_time)*1000) #in ms\n",
    "\n",
    "print('Round Trip Times min/avg/max','%.2f' % min(RTT),'%.2f' % (sum(RTT)/len(RTT)), '%.2f' % max(RTT))"
   ]
  },
  {
   "cell_type": "markdown",
   "metadata": {
    "id": "_ZqOsFjh7yY1"
   },
   "source": [
    "Very good! Now let's move to traceroute. First we'll see the command line version\n"
   ]
  },
  {
   "cell_type": "code",
   "execution_count": null,
   "metadata": {
    "colab": {
     "base_uri": "https://localhost:8080/"
    },
    "executionInfo": {
     "elapsed": 32872,
     "status": "ok",
     "timestamp": 1645452240595,
     "user": {
      "displayName": "Alessandro Enrico Cesare Redondi",
      "photoUrl": "https://lh3.googleusercontent.com/a/default-user=s64",
      "userId": "14548244000690931442"
     },
     "user_tz": -60
    },
    "id": "jnyY52TQ7yAJ",
    "outputId": "21ba0bc1-8da9-4262-dcbc-a408cbfbbd95"
   },
   "outputs": [
    {
     "name": "stdout",
     "output_type": "stream",
     "text": [
      "Reading package lists... Done\n",
      "Building dependency tree       \n",
      "Reading state information... Done\n",
      "The following packages were automatically installed and are no longer required:\n",
      "  cuda-command-line-tools-10-0 cuda-command-line-tools-10-1\n",
      "  cuda-command-line-tools-11-0 cuda-compiler-10-0 cuda-compiler-10-1\n",
      "  cuda-compiler-11-0 cuda-cuobjdump-10-0 cuda-cuobjdump-10-1\n",
      "  cuda-cuobjdump-11-0 cuda-cupti-10-0 cuda-cupti-10-1 cuda-cupti-11-0\n",
      "  cuda-cupti-dev-11-0 cuda-documentation-10-0 cuda-documentation-10-1\n",
      "  cuda-documentation-11-0 cuda-documentation-11-1 cuda-gdb-10-0 cuda-gdb-10-1\n",
      "  cuda-gdb-11-0 cuda-gpu-library-advisor-10-0 cuda-gpu-library-advisor-10-1\n",
      "  cuda-libraries-10-0 cuda-libraries-10-1 cuda-libraries-11-0\n",
      "  cuda-memcheck-10-0 cuda-memcheck-10-1 cuda-memcheck-11-0 cuda-nsight-10-0\n",
      "  cuda-nsight-10-1 cuda-nsight-11-0 cuda-nsight-11-1 cuda-nsight-compute-10-0\n",
      "  cuda-nsight-compute-10-1 cuda-nsight-compute-11-0 cuda-nsight-compute-11-1\n",
      "  cuda-nsight-systems-10-1 cuda-nsight-systems-11-0 cuda-nsight-systems-11-1\n",
      "  cuda-nvcc-10-0 cuda-nvcc-10-1 cuda-nvcc-11-0 cuda-nvdisasm-10-0\n",
      "  cuda-nvdisasm-10-1 cuda-nvdisasm-11-0 cuda-nvml-dev-10-0 cuda-nvml-dev-10-1\n",
      "  cuda-nvml-dev-11-0 cuda-nvprof-10-0 cuda-nvprof-10-1 cuda-nvprof-11-0\n",
      "  cuda-nvprune-10-0 cuda-nvprune-10-1 cuda-nvprune-11-0 cuda-nvtx-10-0\n",
      "  cuda-nvtx-10-1 cuda-nvtx-11-0 cuda-nvvp-10-0 cuda-nvvp-10-1 cuda-nvvp-11-0\n",
      "  cuda-nvvp-11-1 cuda-samples-10-0 cuda-samples-10-1 cuda-samples-11-0\n",
      "  cuda-samples-11-1 cuda-sanitizer-11-0 cuda-sanitizer-api-10-1\n",
      "  cuda-toolkit-10-0 cuda-toolkit-10-1 cuda-toolkit-11-0 cuda-toolkit-11-1\n",
      "  cuda-tools-10-0 cuda-tools-10-1 cuda-tools-11-0 cuda-tools-11-1\n",
      "  cuda-visual-tools-10-0 cuda-visual-tools-10-1 cuda-visual-tools-11-0\n",
      "  cuda-visual-tools-11-1 default-jre dkms freeglut3 freeglut3-dev\n",
      "  keyboard-configuration libargon2-0 libcap2 libcryptsetup12\n",
      "  libdevmapper1.02.1 libfontenc1 libidn11 libip4tc0 libjansson4\n",
      "  libnvidia-cfg1-510 libnvidia-common-460 libnvidia-common-510\n",
      "  libnvidia-extra-510 libnvidia-fbc1-510 libnvidia-gl-510 libpam-systemd\n",
      "  libpolkit-agent-1-0 libpolkit-backend-1-0 libpolkit-gobject-1-0 libxfont2\n",
      "  libxi-dev libxkbfile1 libxmu-dev libxmu-headers libxnvctrl0 libxtst6\n",
      "  nsight-compute-2020.2.1 nsight-compute-2022.1.0 nsight-systems-2020.3.2\n",
      "  nsight-systems-2020.3.4 nsight-systems-2021.5.2 nvidia-dkms-510\n",
      "  nvidia-kernel-common-510 nvidia-kernel-source-510 nvidia-modprobe\n",
      "  nvidia-settings openjdk-11-jre policykit-1 policykit-1-gnome python3-xkit\n",
      "  screen-resolution-extra systemd systemd-sysv udev x11-xkb-utils\n",
      "  xserver-common xserver-xorg-core-hwe-18.04 xserver-xorg-video-nvidia-510\n",
      "Use 'apt autoremove' to remove them.\n",
      "The following NEW packages will be installed:\n",
      "  traceroute\n",
      "0 upgraded, 1 newly installed, 0 to remove and 39 not upgraded.\n",
      "Need to get 45.4 kB of archives.\n",
      "After this operation, 152 kB of additional disk space will be used.\n",
      "Get:1 http://archive.ubuntu.com/ubuntu bionic/universe amd64 traceroute amd64 1:2.1.0-2 [45.4 kB]\n",
      "Fetched 45.4 kB in 1s (66.5 kB/s)\n",
      "Selecting previously unselected package traceroute.\n",
      "(Reading database ... 155113 files and directories currently installed.)\n",
      "Preparing to unpack .../traceroute_1%3a2.1.0-2_amd64.deb ...\n",
      "Unpacking traceroute (1:2.1.0-2) ...\n",
      "Setting up traceroute (1:2.1.0-2) ...\n",
      "update-alternatives: using /usr/bin/traceroute.db to provide /usr/bin/traceroute (traceroute) in auto mode\n",
      "update-alternatives: using /usr/bin/traceroute6.db to provide /usr/bin/traceroute6 (traceroute6) in auto mode\n",
      "update-alternatives: using /usr/bin/lft.db to provide /usr/bin/lft (lft) in auto mode\n",
      "update-alternatives: using /usr/bin/traceproto.db to provide /usr/bin/traceproto (traceproto) in auto mode\n",
      "update-alternatives: using /usr/sbin/tcptraceroute.db to provide /usr/sbin/tcptraceroute (tcptraceroute) in auto mode\n",
      "Processing triggers for man-db (2.8.3-2ubuntu0.1) ...\n",
      "traceroute to ftp.nz.debian.org (163.7.134.112), 30 hops max, 60 byte packets\n",
      " 1  172.28.0.1 (172.28.0.1)  0.033 ms  0.008 ms  0.007 ms\n",
      " 2  209.85.241.14 (209.85.241.14)  9.511 ms  7.077 ms  8.074 ms\n",
      " 3  six.reannz.co.nz (206.81.81.203)  7.422 ms  7.035 ms  7.897 ms\n",
      " 4  and33-hnl.reannz.co.nz (210.7.33.244)  55.685 ms  55.377 ms  56.293 ms\n",
      " 5  and31-mgw.reannz.co.nz (210.7.33.246)  149.927 ms  149.909 ms  149.808 ms\n",
      " 6  and12-nsh.reannz.co.nz (210.7.33.242)  149.838 ms  149.531 ms  149.474 ms\n",
      " 7  163.7.134.120 (163.7.134.120)  151.779 ms  152.866 ms  151.666 ms\n",
      " 8  * * *\n",
      " 9  * * *\n",
      "10  * * *\n",
      "11  * * *\n",
      "12  * * *\n",
      "13  * * *\n",
      "14  * * *\n",
      "15  * * *\n",
      "16  * * *\n",
      "17  * * *\n",
      "18  * * *\n",
      "19  * * *\n",
      "20  * * *\n",
      "21  * * *\n",
      "22  * * *\n",
      "23  * * *\n",
      "24  * * *\n",
      "25  * * *\n",
      "26  * * *\n",
      "27  * * *\n",
      "28  * * *\n",
      "29  * * *\n",
      "30  * * *\n"
     ]
    }
   ],
   "source": [
    "!apt-get install traceroute\n",
    "!traceroute ftp.nz.debian.org"
   ]
  },
  {
   "cell_type": "markdown",
   "metadata": {
    "id": "_pJyvgFqxJNX"
   },
   "source": [
    "Very good! Now, let's try to implement traceroute. The desired output should be something like this\n",
    "\n",
    "1.   IP address of the first router on the path - RTT\n",
    "2.   IP address of the second router on the path - RTT\n",
    "etc...\n",
    "\n",
    "you can stop sending ICMP requests when you reach the address of the target (hint: you can use socket.gethostbyname(target) to ask the DNS for the IP address of the target. import socket library first.)\n",
    "\n",
    "\n",
    "```\n",
    "import socket\n",
    "target_ip = socket.gethostbyname(target)\n",
    "```\n",
    "\n",
    "IMPORTANT: some of the routers on the path to the destination may not reply to ICMP packets. You can manage this by putting a timeout on the sr() function and printing '***' if no response is received (sr() will return null). Example:\n",
    "\n",
    "```\n",
    "ans, unans = sr(packet, timeout = 10)\n",
    "```\n",
    "\n",
    "\n",
    "\n",
    "\n"
   ]
  },
  {
   "cell_type": "code",
   "execution_count": null,
   "metadata": {
    "colab": {
     "base_uri": "https://localhost:8080/"
    },
    "executionInfo": {
     "elapsed": 1174,
     "status": "ok",
     "timestamp": 1645452256407,
     "user": {
      "displayName": "Alessandro Enrico Cesare Redondi",
      "photoUrl": "https://lh3.googleusercontent.com/a/default-user=s64",
      "userId": "14548244000690931442"
     },
     "user_tz": -60
    },
    "id": "DDLY28q91qNF",
    "outputId": "5eb93a54-ffed-440f-f239-62ddd8387247"
   },
   "outputs": [
    {
     "name": "stdout",
     "output_type": "stream",
     "text": [
      "1 \t 172.28.0.1 \t 0.06 \t 11\n",
      "2 \t 209.85.241.14 \t 7.37 \t 11\n",
      "3 \t 206.81.81.203 \t 6.56 \t 11\n",
      "4 \t 210.7.33.244 \t 55.79 \t 11\n",
      "5 \t 210.7.33.246 \t 149.83 \t 11\n",
      "6 \t 210.7.33.242 \t 150.12 \t 11\n",
      "7 \t 163.7.134.120 \t 152.49 \t 11\n",
      "8 \t 163.7.134.112 \t 151.83 \t 0\n"
     ]
    }
   ],
   "source": [
    "#Insert your solution here\n",
    "target_ip = socket.gethostbyname(target) \n",
    "for x in range(64):\n",
    "  packet = IP(dst = target, ttl = x+1) / ICMP(type = 'echo-request',seq=x)\n",
    "  ans, unans = sr(packet, verbose = False, timeout = 5)\n",
    "  if(len(ans)>0):\n",
    "    query = ans[0][0]\n",
    "    answer = ans[0][1]\n",
    "    rtt = (answer.time - query.sent_time)*1000\n",
    "    print(x+1, '\\t', answer.src, '\\t','%.2f' % rtt, '\\t',answer[ICMP].type) #ICMP types: 0 - echo reply, 11 - time exceeded \n",
    "    if(ans[0][1].src == target_ip):\n",
    "      break;\n",
    "  else:\n",
    "    print(x+1, '\\t', '***')"
   ]
  },
  {
   "cell_type": "markdown",
   "metadata": {
    "id": "WDOPxVSrWnUC"
   },
   "source": [
    "How to deal with devices non-replying to ICMP? Well, if it's a server that we are pinging, and we know that it accepts TCP connections on a known port (e.g. 80 for HTTP), we can try to do a TCP ping: we'll use a SYN packet as a request and get the SYN-ACK packet as a reply.\n",
    "\n",
    "Let's try this for the www.polimi.it server. It will not reply to ICMP ping, but it will accept a TCP connection on port 80. "
   ]
  },
  {
   "cell_type": "code",
   "execution_count": null,
   "metadata": {
    "colab": {
     "base_uri": "https://localhost:8080/"
    },
    "executionInfo": {
     "elapsed": 5647,
     "status": "ok",
     "timestamp": 1645452311553,
     "user": {
      "displayName": "Alessandro Enrico Cesare Redondi",
      "photoUrl": "https://lh3.googleusercontent.com/a/default-user=s64",
      "userId": "14548244000690931442"
     },
     "user_tz": -60
    },
    "id": "FZ7ptRkMJkw9",
    "outputId": "6155756f-c37c-4ef7-9b9f-ffba22a45512"
   },
   "outputs": [
    {
     "name": "stdout",
     "output_type": "stream",
     "text": [
      "ICMP request not answered\n",
      "TCP ping answered. RTT =  148.69\n"
     ]
    }
   ],
   "source": [
    "#Insert your solution here\n",
    "icmp_request = IP(dst = \"www.polimi.it\") / ICMP()\n",
    "ans,unans = sr(icmp_request, verbose = False, timeout = 5)\n",
    "if(len(ans)>0):\n",
    "  print('ICMP request answered')\n",
    "else:\n",
    "  print('ICMP request not answered')\n",
    "\n",
    "tcp_syn = IP(dst = \"www.polimi.it\") / TCP(dport = 80, flags = 'S')\n",
    "ans,unans = sr(tcp_syn, verbose = False, timeout = 5)\n",
    "\n",
    "if(len(ans)>0):\n",
    "  query = ans[0][0]\n",
    "  answer = ans[0][1]\n",
    "  rtt = (answer.time - query.sent_time)*1000\n",
    "  print('TCP ping answered. RTT = ', '%.2f' % rtt)\n",
    "\n",
    "else:\n",
    "  print('TCP ping not answered')\n"
   ]
  },
  {
   "cell_type": "markdown",
   "metadata": {
    "id": "apZoDZGARaA6"
   },
   "source": [
    "Finally, we'll move some steps into visualizing the measurements we have gathered. As a first step, we will just run a ping and visualize on a time series axis the measurements taken. We'll use matplotlib and numpy library for that (no need for installation... they are already installed in Colab)\n",
    "\n",
    "\n",
    "\n"
   ]
  },
  {
   "cell_type": "code",
   "execution_count": null,
   "metadata": {
    "colab": {
     "base_uri": "https://localhost:8080/",
     "height": 278
    },
    "executionInfo": {
     "elapsed": 10235,
     "status": "ok",
     "timestamp": 1645452333317,
     "user": {
      "displayName": "Alessandro Enrico Cesare Redondi",
      "photoUrl": "https://lh3.googleusercontent.com/a/default-user=s64",
      "userId": "14548244000690931442"
     },
     "user_tz": -60
    },
    "id": "nTtaKOWWRaPv",
    "outputId": "51d4d129-bcc1-4bbb-a1ee-038f95bf4542"
   },
   "outputs": [
    {
     "data": {
      "image/png": "[encoded data removed]",
      "text/plain": [
       "<Figure size 432x288 with 1 Axes>"
      ]
     },
     "metadata": {
      "needs_background": "light"
     },
     "output_type": "display_data"
    }
   ],
   "source": [
    "RTT = []\n",
    "num_measurements = 50\n",
    "for x in range(num_measurements):\n",
    "  packet = IP(dst = target) / ICMP(type = 'echo-request',seq=x)\n",
    "  ans, unans = sr(packet, verbose = False)\n",
    "  RTT.append((ans[0][1].time - ans[0][0].sent_time)*1000) #in ms\n",
    "\n",
    "#create a linspace from 1 to num_measurements with num_measurements points\n",
    "x = np.linspace(1, len(RTT), len(RTT))\n",
    "fig = plt.figure()\n",
    "plt.plot(x,RTT, '--r')\n",
    "\n",
    "#improve figure\n",
    "plt.xlabel(\"Measurement\")\n",
    "plt.ylabel(\"RTT (ms)\")\n",
    "plt.xticks(np.arange(5, num_measurements, step=num_measurements/10))\n",
    "plt.grid(visible=True)"
   ]
  }
 ],
 "metadata": {
  "colab": {
   "authorship_tag": "ABX9TyO8sjwCxPMNnA0vW2bPVMdo",
   "collapsed_sections": [],
   "name": "scapy-ping-solution.ipynb",
   "provenance": [
    {
     "file_id": "1QBBtHOuoXSv0V97jAXb4W4Udv9iSJObU",
     "timestamp": 1643194520175
    },
    {
     "file_id": "13OIGqFY5Uh-MIoNppjMSxKzm36JhlaeB",
     "timestamp": 1643191396491
    }
   ]
  },
  "kernelspec": {
   "display_name": "Python 3 (ipykernel)",
   "language": "python",
   "name": "python3"
  },
  "language_info": {
   "codemirror_mode": {
    "name": "ipython",
    "version": 3
   },
   "file_extension": ".py",
   "mimetype": "text/x-python",
   "name": "python",
   "nbconvert_exporter": "python",
   "pygments_lexer": "ipython3",
   "version": "3.9.7"
  }
 },
 "nbformat": 4,
 "nbformat_minor": 1
}
