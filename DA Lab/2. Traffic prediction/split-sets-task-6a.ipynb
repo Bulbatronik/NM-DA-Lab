{
 "cells": [
  {
   "cell_type": "code",
   "execution_count": 1,
   "id": "e63114b8",
   "metadata": {},
   "outputs": [],
   "source": [
    "import numpy as np"
   ]
  },
  {
   "cell_type": "code",
   "execution_count": 2,
   "id": "e1b98505",
   "metadata": {},
   "outputs": [
    {
     "data": {
      "text/plain": [
       "26"
      ]
     },
     "execution_count": 2,
     "metadata": {},
     "output_type": "execute_result"
    }
   ],
   "source": [
    "letters = ['a','b','c','d','e','f','g','h','i','j','k','l','m','n','o','p','q','r','s','t','u','v','w','x','y','z']\n",
    "len(letters)"
   ]
  },
  {
   "cell_type": "code",
   "execution_count": 3,
   "id": "544c9bbc",
   "metadata": {},
   "outputs": [],
   "source": [
    "lookback = 4\n",
    "X=np.empty((len(letters)-lookback,lookback),dtype=str)\n",
    "y=np.empty((len(letters)-lookback,),dtype=str)\n",
    "#print(X.shape)\n",
    "#print(y.shape)\n",
    "#print(X)\n",
    "#print(y)"
   ]
  },
  {
   "cell_type": "code",
   "execution_count": 4,
   "id": "f0503d70",
   "metadata": {},
   "outputs": [
    {
     "name": "stdout",
     "output_type": "stream",
     "text": [
      "(22, 4)\n",
      "(22,)\n",
      "[['a' 'b' 'c' 'd']\n",
      " ['b' 'c' 'd' 'e']\n",
      " ['c' 'd' 'e' 'f']\n",
      " ['d' 'e' 'f' 'g']\n",
      " ['e' 'f' 'g' 'h']\n",
      " ['f' 'g' 'h' 'i']\n",
      " ['g' 'h' 'i' 'j']\n",
      " ['h' 'i' 'j' 'k']\n",
      " ['i' 'j' 'k' 'l']\n",
      " ['j' 'k' 'l' 'm']\n",
      " ['k' 'l' 'm' 'n']\n",
      " ['l' 'm' 'n' 'o']\n",
      " ['m' 'n' 'o' 'p']\n",
      " ['n' 'o' 'p' 'q']\n",
      " ['o' 'p' 'q' 'r']\n",
      " ['p' 'q' 'r' 's']\n",
      " ['q' 'r' 's' 't']\n",
      " ['r' 's' 't' 'u']\n",
      " ['s' 't' 'u' 'v']\n",
      " ['t' 'u' 'v' 'w']\n",
      " ['u' 'v' 'w' 'x']\n",
      " ['v' 'w' 'x' 'y']]\n",
      "['e' 'f' 'g' 'h' 'i' 'j' 'k' 'l' 'm' 'n' 'o' 'p' 'q' 'r' 's' 't' 'u' 'v'\n",
      " 'w' 'x' 'y' 'z']\n"
     ]
    }
   ],
   "source": [
    "for i in range(len(letters)-lookback):\n",
    "    X[i,:] = letters[i:i+lookback]\n",
    "    y[i] = letters[i+lookback]\n",
    "print(X.shape)\n",
    "print(y.shape)\n",
    "print(X)\n",
    "print(y)"
   ]
  },
  {
   "cell_type": "code",
   "execution_count": 5,
   "id": "5e36e8a2",
   "metadata": {},
   "outputs": [],
   "source": [
    "def train_test_split_LSTM(X, y, percentage_training, gap):\n",
    "    \n",
    "    train_samples = int(percentage_training*X.shape[0])\n",
    "    test_samples = X.shape[0] - train_samples\n",
    "    \n",
    "    test_samples_start = int(train_samples + gap)\n",
    "    test_samples_end = test_samples_start + test_samples\n",
    "    \n",
    "    X_train = X[: train_samples]\n",
    "    y_train = y[: train_samples]\n",
    "    \n",
    "    X_test = X[test_samples_start : test_samples_end]\n",
    "    y_test = y[test_samples_start : test_samples_end]\n",
    "        \n",
    "    return X_train, X_test, y_train, y_test\n",
    "    \n",
    "    "
   ]
  },
  {
   "cell_type": "code",
   "execution_count": 6,
   "id": "0c22f308",
   "metadata": {},
   "outputs": [
    {
     "name": "stdout",
     "output_type": "stream",
     "text": [
      "[['a' 'b' 'c' 'd']\n",
      " ['b' 'c' 'd' 'e']\n",
      " ['c' 'd' 'e' 'f']\n",
      " ['d' 'e' 'f' 'g']\n",
      " ['e' 'f' 'g' 'h']\n",
      " ['f' 'g' 'h' 'i']\n",
      " ['g' 'h' 'i' 'j']\n",
      " ['h' 'i' 'j' 'k']\n",
      " ['i' 'j' 'k' 'l']\n",
      " ['j' 'k' 'l' 'm']\n",
      " ['k' 'l' 'm' 'n']]\n",
      "['e' 'f' 'g' 'h' 'i' 'j' 'k' 'l' 'm' 'n' 'o']\n"
     ]
    }
   ],
   "source": [
    "perc_tr = 0.5\n",
    "desired_gap = 4\n",
    "X_train_LSTM, X_test_LSTM, y_train_LSTM, y_test_LSTM = train_test_split_LSTM(X, y, perc_tr, desired_gap)\n",
    "print(X_train_LSTM)\n",
    "print(y_train_LSTM)\n"
   ]
  },
  {
   "cell_type": "code",
   "execution_count": 7,
   "id": "91213cd1",
   "metadata": {},
   "outputs": [
    {
     "name": "stdout",
     "output_type": "stream",
     "text": [
      "[['p' 'q' 'r' 's']\n",
      " ['q' 'r' 's' 't']\n",
      " ['r' 's' 't' 'u']\n",
      " ['s' 't' 'u' 'v']\n",
      " ['t' 'u' 'v' 'w']\n",
      " ['u' 'v' 'w' 'x']\n",
      " ['v' 'w' 'x' 'y']]\n",
      "['t' 'u' 'v' 'w' 'x' 'y' 'z']\n"
     ]
    }
   ],
   "source": [
    "print(X_test_LSTM)\n",
    "print(y_test_LSTM)"
   ]
  },
  {
   "cell_type": "code",
   "execution_count": null,
   "id": "41569493",
   "metadata": {},
   "outputs": [],
   "source": []
  },
  {
   "cell_type": "code",
   "execution_count": null,
   "id": "a16ac4cd",
   "metadata": {},
   "outputs": [],
   "source": []
  },
  {
   "cell_type": "code",
   "execution_count": null,
   "id": "cce3bd1d",
   "metadata": {},
   "outputs": [],
   "source": []
  }
 ],
 "metadata": {
  "kernelspec": {
   "display_name": "Python 3 (ipykernel)",
   "language": "python",
   "name": "python3"
  },
  "language_info": {
   "codemirror_mode": {
    "name": "ipython",
    "version": 3
   },
   "file_extension": ".py",
   "mimetype": "text/x-python",
   "name": "python",
   "nbconvert_exporter": "python",
   "pygments_lexer": "ipython3",
   "version": "3.9.15"
  }
 },
 "nbformat": 4,
 "nbformat_minor": 5
}
